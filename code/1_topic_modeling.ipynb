{
 "cells": [
  {
   "cell_type": "code",
   "execution_count": 34,
   "id": "d94d43b5-0bb4-456a-bb5c-e8a14cc7dbab",
   "metadata": {
    "scrolled": true,
    "tags": []
   },
   "outputs": [],
   "source": [
    "from bertopic import BERTopic\n",
    "from hdbscan import HDBSCAN\n",
    "from sklearn.feature_extraction.text import CountVectorizer\n",
    "from umap import UMAP\n",
    "from sentence_transformers import SentenceTransformer\n",
    "import numpy as np\n",
    "from sklearn.decomposition import PCA\n",
    "from nltk.corpus import stopwords\n",
    "import pickle\n",
    "import pandas as pd\n",
    "from bertopic.vectorizers import ClassTfidfTransformer\n",
    "import plotly.io as pio\n",
    "\n",
    "from tqdm._tqdm_notebook import tqdm\n",
    "\n",
    "import openai\n",
    "\n",
    "from bertopic.representation import KeyBERTInspired\n",
    "\n",
    "from transformers import pipeline\n",
    "from bertopic.representation import TextGeneration\n",
    "from bertopic.representation import PartOfSpeech\n",
    "from bertopic.representation import MaximalMarginalRelevance\n",
    "from bertopic.representation import OpenAI\n",
    "\n",
    "import glob\n",
    "from sklearn.metrics.pairwise import cosine_similarity"
   ]
  },
  {
   "cell_type": "code",
   "execution_count": 29,
   "id": "3cd0c248-c41a-4e78-9f12-923f856c9548",
   "metadata": {
    "tags": []
   },
   "outputs": [],
   "source": [
    "# this functions are only to save the embedding\n",
    "def save(x, file_name):\n",
    "    with open(file_name, 'wb') as handle:\n",
    "        pickle.dump(x, handle, protocol=pickle.HIGHEST_PROTOCOL)\n",
    "\n",
    "def restore(file_name):\n",
    "    with open(file_name, 'rb') as handle:\n",
    "        x = pickle.load(handle)\n",
    "    return x"
   ]
  },
  {
   "cell_type": "code",
   "execution_count": 3,
   "id": "08cb84f3-3531-415e-9483-c5b01ffff302",
   "metadata": {},
   "outputs": [],
   "source": [
    "df = pd.read_table('../data/biology_abstracts.csv',sep=';')"
   ]
  },
  {
   "cell_type": "markdown",
   "id": "de9c9703-00e5-4455-85d9-bb816f7a87c1",
   "metadata": {},
   "source": [
    "Prepare data"
   ]
  },
  {
   "cell_type": "code",
   "execution_count": 4,
   "id": "01d93099-b90b-4238-a1d3-81fb98fc3bf2",
   "metadata": {},
   "outputs": [],
   "source": [
    "df['text'] = df.title+ ' ' + df.abstract\n",
    "df['text'] = df.text.fillna('')"
   ]
  },
  {
   "cell_type": "code",
   "execution_count": 5,
   "id": "0ef79980-dc96-42c5-9cf0-1dea781c7c4c",
   "metadata": {},
   "outputs": [],
   "source": [
    "text_df = df[-df.OST_BK.duplicated(keep='last')].reset_index(drop=True) #drop duplicates"
   ]
  },
  {
   "cell_type": "code",
   "execution_count": 28,
   "id": "19327d8c-f4b5-4a4e-8c43-4cbc99288f6f",
   "metadata": {
    "tags": []
   },
   "outputs": [],
   "source": [
    "# umap_model = UMAP(n_neighbors=15, n_components=3, min_dist=0.0, metric='cosine', low_memory = True, n_jobs=32)\n",
    "sentence_model = SentenceTransformer(\"paraphrase-multilingual-MiniLM-L12-v2\") #\"paraphrase-MiniLM-L3-v2\"\n",
    "\n",
    "def rescale(x, inplace=False):\n",
    "    \"\"\" Rescale an embedding so optimization will not have convergence issues.\n",
    "    \"\"\"\n",
    "    if not inplace:\n",
    "        x = np.array(x, copy=True)\n",
    "\n",
    "    x /= np.std(x[:, 0]) * 10000\n",
    "\n",
    "    return x"
   ]
  },
  {
   "cell_type": "code",
   "execution_count": 7,
   "id": "edbeb1a1-4baa-4b9a-8e4e-80d6ec94c049",
   "metadata": {
    "scrolled": true,
    "tags": []
   },
   "outputs": [],
   "source": [
    "# %%time\n",
    "# embeddings = sentence_model.encode(text_df.text.values, show_progress_bar=False)\n",
    "# save(embeddings, '../results/embeddings_1.p')"
   ]
  },
  {
   "cell_type": "code",
   "execution_count": 8,
   "id": "d77a8acb",
   "metadata": {
    "tags": []
   },
   "outputs": [],
   "source": [
    "embeddings = restore('../results/embeddings_1.p')"
   ]
  },
  {
   "cell_type": "code",
   "execution_count": 9,
   "id": "e6ad97bf-5803-4b8c-ac56-031378fa8e70",
   "metadata": {
    "tags": []
   },
   "outputs": [
    {
     "data": {
      "text/plain": [
       "(34797, 384)"
      ]
     },
     "execution_count": 9,
     "metadata": {},
     "output_type": "execute_result"
    }
   ],
   "source": [
    "embeddings.shape"
   ]
  },
  {
   "cell_type": "code",
   "execution_count": 10,
   "id": "9ad847f3-05aa-43e3-9eb5-53b6e7bde112",
   "metadata": {
    "tags": []
   },
   "outputs": [],
   "source": [
    "pca_embeddings = rescale(PCA(n_components=5).fit_transform(embeddings))"
   ]
  },
  {
   "cell_type": "code",
   "execution_count": 11,
   "id": "1cb2fd23-4d5c-477b-9f41-f3405e1da4d4",
   "metadata": {
    "tags": []
   },
   "outputs": [
    {
     "data": {
      "text/plain": [
       "(34797, 5)"
      ]
     },
     "execution_count": 11,
     "metadata": {},
     "output_type": "execute_result"
    }
   ],
   "source": [
    "pca_embeddings.shape"
   ]
  },
  {
   "cell_type": "markdown",
   "id": "a1160437-5903-4a47-ba4d-fc9c37e951c9",
   "metadata": {},
   "source": [
    "## basic elements"
   ]
  },
  {
   "cell_type": "code",
   "execution_count": 12,
   "id": "3a562266-6175-4d05-ab39-872bc8b4c9b7",
   "metadata": {},
   "outputs": [],
   "source": [
    "umap_model = UMAP(\n",
    "    n_neighbors=15,\n",
    "    n_components=5,\n",
    "    min_dist=0.0,\n",
    "    metric=\"cosine\",\n",
    "    init=pca_embeddings,\n",
    "    random_state=1234, n_jobs=4, low_memory=False)    \n",
    "sw=stopwords.words(['english','spanish','french']) + ['elsevier']\n",
    "vectorizer_model = CountVectorizer(ngram_range=(1,1), stop_words=sw,max_df=1.0, min_df=0.001)\n",
    "# Setting HDBSCAN model\n",
    "hdbscan_model = HDBSCAN(min_cluster_size=100,min_samples=1, metric='euclidean',cluster_selection_epsilon=0.05, \n",
    "                        cluster_selection_method='leaf', prediction_data=True,core_dist_n_jobs=4,memory='tmp/') #, min_samples=1\n",
    "ctfidf_model  = ClassTfidfTransformer()"
   ]
  },
  {
   "cell_type": "markdown",
   "id": "14442078-c979-4106-99c6-8f7aa5bc1d8c",
   "metadata": {},
   "source": [
    "## Representation models"
   ]
  },
  {
   "cell_type": "code",
   "execution_count": 13,
   "id": "221c068a-d48c-49cd-b853-9cd6dad437f8",
   "metadata": {},
   "outputs": [],
   "source": [
    "# The main representation of a topic\n",
    "main_representation = KeyBERTInspired()"
   ]
  },
  {
   "cell_type": "markdown",
   "id": "678f8a66-391a-4eb2-a0e6-b2c79f066347",
   "metadata": {},
   "source": [
    "### LLM\n"
   ]
  },
  {
   "cell_type": "code",
   "execution_count": 18,
   "id": "8e13f907-83c9-4cab-b638-7644238f6b16",
   "metadata": {},
   "outputs": [],
   "source": [
    "# client = openai.OpenAI(api_key=\"\")\n"
   ]
  },
  {
   "cell_type": "code",
   "execution_count": 19,
   "id": "269a9f00-6c26-400b-a7ae-8a08b3b2a7e6",
   "metadata": {},
   "outputs": [],
   "source": [
    "# Create your representation model\n",
    "short_name_prompt = \"\"\"\n",
    "I have a corpus of Biology with 100 topics. I have a topic that is described by the following keywords: [KEYWORDS]\n",
    "Based on the information above, extract a short topic label of a signle word that can accurately represent the topic, in the following format:\n",
    "topic: <topic label>\n",
    "\"\"\"\n",
    "long_name_prompt = \"\"\"\n",
    "I have a corpus of Biology with 100 topics. I have a topic that is described by the following keywords: [KEYWORDS]\n",
    "Based on the information above, extract a short topic label between one and three words that can accurately represent the topic, in the following format:\n",
    "topic: <topic label>\n",
    "\"\"\"\n",
    "# title_prompt = \"\"\"\n",
    "# I have a topic that is described by the following keywords: [KEYWORDS]\n",
    "# Based on the previous keywords, please give me a title that can describe the topic\n",
    "# \"\"\"\n",
    "\n",
    "generator = pipeline('text2text-generation', model='google/flan-t5-base')\n",
    "\n",
    "flan_snp = TextGeneration(generator,prompt=short_name_prompt)\n",
    "flan_lnp = TextGeneration(generator,prompt=long_name_prompt)\n",
    "\n",
    "openai4m_snp = OpenAI(client, model=\"gpt-4o-mini\", chat=True, prompt=short_name_prompt, nr_docs=50, delay_in_seconds=1)\n",
    "openai4m_lnp = OpenAI(client, model=\"gpt-4o-mini\", chat=True, prompt=long_name_prompt, nr_docs=50, delay_in_seconds=1)\n",
    "# openai4m_tp = OpenAI(client, model=\"gpt-4o-mini\", chat=True, prompt=title_prompt, nr_docs=50, delay_in_seconds=1)\n",
    "\n",
    "openai4o_snp = OpenAI(client, model=\"gpt-4o\", chat=True, prompt=short_name_prompt, nr_docs=50, delay_in_seconds=1)\n",
    "openai4o_lnp = OpenAI(client, model=\"gpt-4o\", chat=True, prompt=long_name_prompt, nr_docs=50, delay_in_seconds=1)\n",
    "# openai4o_tp = OpenAI(client, model=\"gpt-4o\", chat=True, prompt=title_prompt, nr_docs=50, delay_in_seconds=1)\n",
    "\n"
   ]
  },
  {
   "cell_type": "code",
   "execution_count": 20,
   "id": "eef32d98-f098-4a8b-a56f-c5b7292272b2",
   "metadata": {},
   "outputs": [],
   "source": [
    "# Add all models together to be run in a single `fit`\n",
    "representation_models = {\n",
    "   \"Main\": main_representation,\n",
    "    \"Aspect1\": flan_snp,\n",
    "    \"Aspect2\": flan_lnp,\n",
    "    \"Aspect3\": openai4m_snp,\n",
    "    \"Aspect4\": openai4m_lnp,\n",
    "    \"Aspect5\": openai4o_snp,\n",
    "    \"Aspect6\": openai4o_lnp\n",
    "}\n"
   ]
  },
  {
   "cell_type": "markdown",
   "id": "1fea913c-d939-4a03-b3fd-8e8afaae0bfd",
   "metadata": {},
   "source": [
    "#  Model FIT"
   ]
  },
  {
   "cell_type": "code",
   "execution_count": 21,
   "id": "4f87b0e1-a36b-45b5-ba48-5d92fceb2f6d",
   "metadata": {},
   "outputs": [],
   "source": [
    "\n",
    "topic_model = BERTopic(verbose=True,embedding_model=sentence_model, low_memory=True, calculate_probabilities=False, \n",
    "                       vectorizer_model=vectorizer_model, \n",
    "                       hdbscan_model=hdbscan_model,\n",
    "                       umap_model=umap_model,\n",
    "                       ctfidf_model=ctfidf_model,\n",
    "                       representation_model=representation_models)\n"
   ]
  },
  {
   "cell_type": "code",
   "execution_count": 43,
   "id": "cfb8b4d7-7564-48c3-9853-4200a86c0c5d",
   "metadata": {
    "tags": []
   },
   "outputs": [
    {
     "name": "stderr",
     "output_type": "stream",
     "text": [
      "2024-08-05 14:37:57,298 - BERTopic - Dimensionality - Fitting the dimensionality reduction algorithm\n",
      "2024-08-05 14:38:11,765 - BERTopic - Dimensionality - Completed ✓\n",
      "2024-08-05 14:38:11,766 - BERTopic - Cluster - Start clustering the reduced embeddings\n",
      "2024-08-05 14:38:11,902 - BERTopic - Cluster - Completed ✓\n",
      "2024-08-05 14:38:11,906 - BERTopic - Representation - Extracting topics from clusters using representation models.\n",
      "2024-08-05 14:38:13,822 - BERTopic - Representation - Completed ✓\n"
     ]
    },
    {
     "name": "stdout",
     "output_type": "stream",
     "text": [
      "CPU times: user 20 s, sys: 86.2 ms, total: 20.1 s\n",
      "Wall time: 17.9 s\n"
     ]
    }
   ],
   "source": [
    "%%time\n",
    "topics, probabilities  = topic_model.fit_transform(text_df.text.values, embeddings)"
   ]
  },
  {
   "cell_type": "code",
   "execution_count": 34,
   "id": "16b5ff0b-1784-4ed1-9a7d-3f73db2d6383",
   "metadata": {},
   "outputs": [],
   "source": [
    "topic_info= topic_model.get_topic_info()\n",
    "\n",
    "topic_info['Aspect1'] = topic_info['Aspect1'].apply(lambda x: x[0] if x else '').str.replace(\"'\", \"\").str.replace('\"', '')\n",
    "topic_info['Aspect2'] = topic_info['Aspect2'].apply(lambda x: x[0] if x else '').str.replace(\"'\", \"\").str.replace('\"', '')\n",
    "topic_info['Aspect3'] = topic_info['Aspect3'].apply(lambda x: x[0] if x else '').str.replace(\"'\", \"\").str.replace('\"', '')\n",
    "topic_info['Aspect4'] = topic_info['Aspect4'].apply(lambda x: x[0] if x else '').str.replace(\"'\", \"\").str.replace('\"', '')\n",
    "topic_info['Aspect5'] = topic_info['Aspect5'].apply(lambda x: x[0] if x else '').str.replace(\"'\", \"\").str.replace('\"', '')\n",
    "topic_info['Aspect6'] = topic_info['Aspect6'].apply(lambda x: x[0] if x else '').str.replace(\"'\", \"\").str.replace('\"', '')\n"
   ]
  },
  {
   "cell_type": "code",
   "execution_count": 36,
   "id": "b81bde87-f8d4-4b5b-8b0c-f9df8f72d82a",
   "metadata": {},
   "outputs": [],
   "source": [
    "topic_info= topic_info.rename(columns={\n",
    "    \"Aspect1\": \"flan_snp\",\n",
    "    \"Aspect2\": \"flan_lnp\",\n",
    "    \"Aspect3\": \"openai4m_snp\",\n",
    "    \"Aspect4\": \"openai4m_lnp\",\n",
    "    \"Aspect5\": \"openai4o_snp\",\n",
    "    \"Aspect6\": \"openai4o_lnp\"})"
   ]
  },
  {
   "cell_type": "code",
   "execution_count": 37,
   "id": "61b739db-186e-4df3-8c93-489b0f586f40",
   "metadata": {},
   "outputs": [],
   "source": [
    "topic_info=topic_info[['Topic', 'Count', 'Name','Representative_Docs', 'Representation', 'flan_snp',\n",
    "       'openai4m_snp', 'openai4o_snp', 'flan_lnp', 'openai4m_lnp',\n",
    "       'openai4o_lnp']]"
   ]
  },
  {
   "cell_type": "code",
   "execution_count": 38,
   "id": "8f8768f1-f886-454c-9d83-3ee363314d91",
   "metadata": {
    "scrolled": true
   },
   "outputs": [],
   "source": [
    "#$topic_model.save('../results/topic_model/basic_model')\n",
    "topic_info.to_excel('../results/topic_model/topic_info.xlsx',index=False)"
   ]
  },
  {
   "cell_type": "markdown",
   "id": "1c300e9f-877e-4a07-ad35-9a9f2463a750",
   "metadata": {},
   "source": [
    "## Stability"
   ]
  },
  {
   "cell_type": "code",
   "execution_count": 22,
   "id": "3269071a-71d1-4412-bfc1-4f85ca783aed",
   "metadata": {},
   "outputs": [],
   "source": [
    "#base model\n",
    "topic_model = BERTopic(verbose=True,embedding_model=sentence_model, low_memory=True, calculate_probabilities=False, \n",
    "                       vectorizer_model=vectorizer_model, \n",
    "                       hdbscan_model=hdbscan_model,\n",
    "                       umap_model=umap_model,\n",
    "                       ctfidf_model=ctfidf_model)"
   ]
  },
  {
   "cell_type": "code",
   "execution_count": 23,
   "id": "6461b01b-bed1-4e18-b683-57b7ff13a444",
   "metadata": {},
   "outputs": [],
   "source": [
    "def get_topic_info_clean(topic_model):\n",
    "    topic_info= topic_model.get_topic_info()\n",
    "    \n",
    "    topic_info['Aspect1'] = topic_info['Aspect1'].apply(lambda x: x[0] if x else '').str.replace(\"'\", \"\").str.replace('\"', '')\n",
    "    topic_info['Aspect2'] = topic_info['Aspect2'].apply(lambda x: x[0] if x else '').str.replace(\"'\", \"\").str.replace('\"', '')\n",
    "    topic_info['Aspect3'] = topic_info['Aspect3'].apply(lambda x: x[0] if x else '').str.replace(\"'\", \"\").str.replace('\"', '')\n",
    "    topic_info['Aspect4'] = topic_info['Aspect4'].apply(lambda x: x[0] if x else '').str.replace(\"'\", \"\").str.replace('\"', '')\n",
    "    topic_info['Aspect5'] = topic_info['Aspect5'].apply(lambda x: x[0] if x else '').str.replace(\"'\", \"\").str.replace('\"', '')\n",
    "    topic_info['Aspect6'] = topic_info['Aspect6'].apply(lambda x: x[0] if x else '').str.replace(\"'\", \"\").str.replace('\"', '')\n",
    "    \n",
    "    topic_info= topic_info.rename(columns={\n",
    "        \"Aspect1\": \"flan_snp\",\n",
    "        \"Aspect2\": \"flan_lnp\",\n",
    "        \"Aspect3\": \"openai4m_snp\",\n",
    "        \"Aspect4\": \"openai4m_lnp\",\n",
    "        \"Aspect5\": \"openai4o_snp\",\n",
    "        \"Aspect6\": \"openai4o_lnp\"})\n",
    "    \n",
    "    topic_info=topic_info[['Topic', 'Count', 'Name','Representative_Docs', 'Representation', 'flan_snp',\n",
    "           'openai4m_snp', 'openai4o_snp', 'flan_lnp', 'openai4m_lnp',\n",
    "           'openai4o_lnp']]\n",
    "    return topic_info\n"
   ]
  },
  {
   "cell_type": "code",
   "execution_count": 24,
   "id": "6ad9b02c-5b62-44da-8f5a-319cc2e8412f",
   "metadata": {},
   "outputs": [],
   "source": [
    "# Add all models together to be run in a single `fit`\n",
    "representation_models = {\n",
    "   \"Main\": main_representation,\n",
    "    \"Aspect1\": flan_snp,\n",
    "    \"Aspect2\": flan_lnp,\n",
    "    \"Aspect3\": openai4m_snp,\n",
    "    \"Aspect4\": openai4m_lnp,\n",
    "    \"Aspect5\": openai4o_snp,\n",
    "    \"Aspect6\": openai4o_lnp\n",
    "}\n"
   ]
  },
  {
   "cell_type": "code",
   "execution_count": 25,
   "id": "c8aa1e73-60c1-47d2-b7eb-d8f7b96c404a",
   "metadata": {},
   "outputs": [
    {
     "name": "stderr",
     "output_type": "stream",
     "text": [
      "2024-08-05 21:37:48,091 - BERTopic - Dimensionality - Fitting the dimensionality reduction algorithm\n",
      "2024-08-05 21:38:10,891 - BERTopic - Dimensionality - Completed ✓\n",
      "2024-08-05 21:38:10,893 - BERTopic - Cluster - Start clustering the reduced embeddings\n",
      "2024-08-05 21:38:12,567 - BERTopic - Cluster - Completed ✓\n",
      "2024-08-05 21:38:12,571 - BERTopic - Representation - Extracting topics from clusters using representation models.\n",
      "2024-08-05 21:38:14,586 - BERTopic - Representation - Completed ✓\n"
     ]
    },
    {
     "name": "stdout",
     "output_type": "stream",
     "text": [
      "CPU times: user 28.2 s, sys: 565 ms, total: 28.8 s\n",
      "Wall time: 28.1 s\n"
     ]
    }
   ],
   "source": [
    "%%time\n",
    "topics, probabilities  = topic_model.fit_transform(text_df.text.values, embeddings)"
   ]
  },
  {
   "cell_type": "code",
   "execution_count": 69,
   "id": "2dab5a8a-152c-45ab-94a4-2507fd7f0372",
   "metadata": {},
   "outputs": [
    {
     "name": "stderr",
     "output_type": "stream",
     "text": [
      "2024-08-05 14:58:25,554 - BERTopic - WARNING: When you use `pickle` to save/load a BERTopic model,please make sure that the environments in which you saveand load the model are **exactly** the same. The version of BERTopic,its dependencies, and python need to remain the same.\n"
     ]
    }
   ],
   "source": [
    "topic_model.save('../results/topic_model/basic_model')"
   ]
  },
  {
   "cell_type": "code",
   "execution_count": null,
   "id": "eeab7ec1-88ce-4af1-ab67-7b89953a0a51",
   "metadata": {
    "scrolled": true
   },
   "outputs": [],
   "source": [
    "#the connection got lost. I run everything on 1_topic_model_iteration.py\n",
    "# ti_list = []\n",
    "\n",
    "# for i in tqdm(range(4,21)):\n",
    "#     topic_model.load('../results/topic_model/basic_model') # I ensure I have the same basic model\n",
    "#     topic_model.update_topics(text_df.text.values,representation_model=representation_models)\n",
    "#     topic_info = get_topic_info_clean(topic_model)\n",
    "#     topic_info['iteration'] = i\n",
    "#     ti_list.append(topic_info)"
   ]
  },
  {
   "cell_type": "code",
   "execution_count": null,
   "id": "fcd49b1b-f9a1-4e65-a2d0-2a2d16423861",
   "metadata": {},
   "outputs": [],
   "source": [
    "first_iterations = pd.read_excel('../results/topic_model/topic_info_iteration_1-3.xlsx')\n",
    "\n",
    "iter_df = pd.concat((pd.read_csv(file) for file in glob.glob('../results/topic_model/topic_info_iteration_*')), ignore_index=True)\n",
    "\n",
    "iter_df = pd.concat([first_iterations,iter_df])"
   ]
  },
  {
   "cell_type": "code",
   "execution_count": 17,
   "id": "e4e48853-74ed-445f-8e9c-7d2f3fc36188",
   "metadata": {},
   "outputs": [],
   "source": [
    "iter_df = iter_df.sort_values([\"Topic\",\"iteration\"]).reset_index(drop=True)"
   ]
  },
  {
   "cell_type": "code",
   "execution_count": 18,
   "id": "7b9d88bc-d4c9-433f-80a8-b04becfeab18",
   "metadata": {},
   "outputs": [],
   "source": [
    "iter_df.to_csv('../results/topic_model/topic_info_all_iterations.csv',index=False)"
   ]
  },
  {
   "cell_type": "markdown",
   "id": "f8a0bf55-f6a3-472c-a4ae-b3e1a091a35f",
   "metadata": {},
   "source": [
    "## cosine similarity"
   ]
  },
  {
   "cell_type": "code",
   "execution_count": 26,
   "id": "6bd9698b-9604-483a-b97e-cbc439302a3a",
   "metadata": {},
   "outputs": [],
   "source": [
    "iter_df_long= pd.melt(iter_df,\n",
    "                      id_vars=['Topic','Name', 'iteration'],\n",
    "                      value_vars = ['flan_snp', 'openai4m_snp', 'openai4o_snp', 'flan_lnp', 'openai4m_lnp', 'openai4o_lnp'],\n",
    "                      value_name='label',var_name='model')"
   ]
  },
  {
   "cell_type": "code",
   "execution_count": 53,
   "id": "356c3a60-ea1b-452a-9526-3dec102c2443",
   "metadata": {},
   "outputs": [
    {
     "data": {
      "text/html": [
       "<div>\n",
       "<style scoped>\n",
       "    .dataframe tbody tr th:only-of-type {\n",
       "        vertical-align: middle;\n",
       "    }\n",
       "\n",
       "    .dataframe tbody tr th {\n",
       "        vertical-align: top;\n",
       "    }\n",
       "\n",
       "    .dataframe thead th {\n",
       "        text-align: right;\n",
       "    }\n",
       "</style>\n",
       "<table border=\"1\" class=\"dataframe\">\n",
       "  <thead>\n",
       "    <tr style=\"text-align: right;\">\n",
       "      <th></th>\n",
       "      <th>Topic</th>\n",
       "      <th>Name</th>\n",
       "      <th>iteration</th>\n",
       "      <th>model</th>\n",
       "      <th>label</th>\n",
       "    </tr>\n",
       "  </thead>\n",
       "  <tbody>\n",
       "    <tr>\n",
       "      <th>0</th>\n",
       "      <td>-1</td>\n",
       "      <td>-1_gene_genes_genetic_species</td>\n",
       "      <td>1</td>\n",
       "      <td>flan_snp</td>\n",
       "      <td>biology</td>\n",
       "    </tr>\n",
       "    <tr>\n",
       "      <th>1</th>\n",
       "      <td>-1</td>\n",
       "      <td>-1_gene_genes_genetic_species</td>\n",
       "      <td>2</td>\n",
       "      <td>flan_snp</td>\n",
       "      <td>biology</td>\n",
       "    </tr>\n",
       "    <tr>\n",
       "      <th>2</th>\n",
       "      <td>-1</td>\n",
       "      <td>-1_gene_genes_genetic_species</td>\n",
       "      <td>3</td>\n",
       "      <td>flan_snp</td>\n",
       "      <td>biology</td>\n",
       "    </tr>\n",
       "    <tr>\n",
       "      <th>3</th>\n",
       "      <td>-1</td>\n",
       "      <td>-1_genes_genetic_gene_species</td>\n",
       "      <td>4</td>\n",
       "      <td>flan_snp</td>\n",
       "      <td>biology</td>\n",
       "    </tr>\n",
       "    <tr>\n",
       "      <th>4</th>\n",
       "      <td>-1</td>\n",
       "      <td>-1_genes_genetic_gene_species</td>\n",
       "      <td>5</td>\n",
       "      <td>flan_snp</td>\n",
       "      <td>biology</td>\n",
       "    </tr>\n",
       "    <tr>\n",
       "      <th>...</th>\n",
       "      <td>...</td>\n",
       "      <td>...</td>\n",
       "      <td>...</td>\n",
       "      <td>...</td>\n",
       "      <td>...</td>\n",
       "    </tr>\n",
       "    <tr>\n",
       "      <th>12613</th>\n",
       "      <td>103</td>\n",
       "      <td>103_bacterial_bacteria_caulobacter_proteins</td>\n",
       "      <td>19</td>\n",
       "      <td>openai4o_lnp</td>\n",
       "      <td>Bacterial Protein Mechanisms</td>\n",
       "    </tr>\n",
       "    <tr>\n",
       "      <th>12614</th>\n",
       "      <td>103</td>\n",
       "      <td>103_bacterial_bacteria_caulobacter_proteins</td>\n",
       "      <td>20</td>\n",
       "      <td>openai4o_lnp</td>\n",
       "      <td>Bacterial Protein Mechanisms</td>\n",
       "    </tr>\n",
       "    <tr>\n",
       "      <th>12615</th>\n",
       "      <td>104</td>\n",
       "      <td>104_bacterial_bacteria_caulobacter_proteins</td>\n",
       "      <td>1</td>\n",
       "      <td>openai4o_lnp</td>\n",
       "      <td>Bacterial Protein Mechanisms</td>\n",
       "    </tr>\n",
       "    <tr>\n",
       "      <th>12616</th>\n",
       "      <td>104</td>\n",
       "      <td>104_bacterial_bacteria_caulobacter_proteins</td>\n",
       "      <td>2</td>\n",
       "      <td>openai4o_lnp</td>\n",
       "      <td>Bacterial Proteins Mechanism</td>\n",
       "    </tr>\n",
       "    <tr>\n",
       "      <th>12617</th>\n",
       "      <td>104</td>\n",
       "      <td>104_bacterial_bacteria_caulobacter_proteins</td>\n",
       "      <td>3</td>\n",
       "      <td>openai4o_lnp</td>\n",
       "      <td>Bacterial Protein Mechanisms</td>\n",
       "    </tr>\n",
       "  </tbody>\n",
       "</table>\n",
       "<p>12618 rows × 5 columns</p>\n",
       "</div>"
      ],
      "text/plain": [
       "       Topic                                         Name  iteration  \\\n",
       "0         -1                -1_gene_genes_genetic_species          1   \n",
       "1         -1                -1_gene_genes_genetic_species          2   \n",
       "2         -1                -1_gene_genes_genetic_species          3   \n",
       "3         -1                -1_genes_genetic_gene_species          4   \n",
       "4         -1                -1_genes_genetic_gene_species          5   \n",
       "...      ...                                          ...        ...   \n",
       "12613    103  103_bacterial_bacteria_caulobacter_proteins         19   \n",
       "12614    103  103_bacterial_bacteria_caulobacter_proteins         20   \n",
       "12615    104  104_bacterial_bacteria_caulobacter_proteins          1   \n",
       "12616    104  104_bacterial_bacteria_caulobacter_proteins          2   \n",
       "12617    104  104_bacterial_bacteria_caulobacter_proteins          3   \n",
       "\n",
       "              model                         label  \n",
       "0          flan_snp                       biology  \n",
       "1          flan_snp                       biology  \n",
       "2          flan_snp                       biology  \n",
       "3          flan_snp                       biology  \n",
       "4          flan_snp                       biology  \n",
       "...             ...                           ...  \n",
       "12613  openai4o_lnp  Bacterial Protein Mechanisms  \n",
       "12614  openai4o_lnp  Bacterial Protein Mechanisms  \n",
       "12615  openai4o_lnp  Bacterial Protein Mechanisms  \n",
       "12616  openai4o_lnp  Bacterial Proteins Mechanism  \n",
       "12617  openai4o_lnp  Bacterial Protein Mechanisms  \n",
       "\n",
       "[12618 rows x 5 columns]"
      ]
     },
     "execution_count": 53,
     "metadata": {},
     "output_type": "execute_result"
    }
   ],
   "source": [
    "iter_df_long"
   ]
  },
  {
   "cell_type": "code",
   "execution_count": 30,
   "id": "e91cbd0b-ad35-43ff-ac1c-b283bbc6e470",
   "metadata": {},
   "outputs": [],
   "source": [
    "label_embeddings = sentence_model.encode(iter_df_long.label.values, show_progress_bar=False)"
   ]
  },
  {
   "cell_type": "code",
   "execution_count": 32,
   "id": "14898779-5368-4e6b-97e8-8f2087a2cf20",
   "metadata": {},
   "outputs": [
    {
     "data": {
      "text/plain": [
       "(12618, 384)"
      ]
     },
     "execution_count": 32,
     "metadata": {},
     "output_type": "execute_result"
    }
   ],
   "source": [
    "label_embeddings.shape"
   ]
  },
  {
   "cell_type": "code",
   "execution_count": 43,
   "id": "f571d6fc-acb0-4388-af9c-ce4ef8e35db1",
   "metadata": {},
   "outputs": [],
   "source": [
    "cosine_sim_matrix = cosine_similarity(label_embeddings)"
   ]
  },
  {
   "cell_type": "code",
   "execution_count": 66,
   "id": "d062de82-1470-4133-93c9-182c02c4998c",
   "metadata": {},
   "outputs": [
    {
     "name": "stderr",
     "output_type": "stream",
     "text": [
      "/var/folders/v5/4x2jhvb15bsb069388zjhgdc0000gn/T/ipykernel_3165/2038247157.py:2: DeprecationWarning: DataFrameGroupBy.apply operated on the grouping columns. This behavior is deprecated, and in a future version of pandas the grouping columns will be excluded from the operation. Either pass `include_groups=False` to exclude the groupings or explicitly select the grouping columns after groupby to silence this warning.\n",
      "  topic_model_indices = iter_df_long.groupby(['Topic', 'model']).apply(lambda g: g.index.tolist()).to_dict()\n"
     ]
    }
   ],
   "source": [
    "# Create a dictionary to map (Topic, model) to their indices\n",
    "topic_model_indices = iter_df_long.groupby(['Topic', 'model']).apply(lambda g: g.index.tolist()).to_dict()\n",
    "\n",
    "# Function to calculate average distance\n",
    "def average_distance(indices1, indices2, cosine_sim_matrix):\n",
    "    distances = []\n",
    "    for i in indices1:\n",
    "        for j in indices2:\n",
    "            distances.append(cosine_sim_matrix[i, j])\n",
    "    return np.mean(distances)\n",
    "\n",
    "# Compute average distances for each Topic&model combination\n",
    "results = []\n",
    "for (topic, model1), indices1 in topic_model_indices.items():\n",
    "    for (topic2, model2), indices2 in topic_model_indices.items():\n",
    "        if topic == topic2:  # Ensure Topic1=Topic2 and models are different\n",
    "            avg_dist = average_distance(indices1, indices2, cosine_sim_matrix)\n",
    "            results.append({\n",
    "                'Topic': topic,\n",
    "                'Model1': model1,\n",
    "                'Model2': model2,\n",
    "                'AverageSimilarity': avg_dist\n",
    "            })\n",
    "\n",
    "# Convert results to a DataFrame\n",
    "similarities_df = pd.DataFrame(results)"
   ]
  },
  {
   "cell_type": "code",
   "execution_count": 67,
   "id": "f1cc1f21-877c-4e9d-94f8-87f832015c12",
   "metadata": {},
   "outputs": [
    {
     "data": {
      "text/html": [
       "<div>\n",
       "<style scoped>\n",
       "    .dataframe tbody tr th:only-of-type {\n",
       "        vertical-align: middle;\n",
       "    }\n",
       "\n",
       "    .dataframe tbody tr th {\n",
       "        vertical-align: top;\n",
       "    }\n",
       "\n",
       "    .dataframe thead th {\n",
       "        text-align: right;\n",
       "    }\n",
       "</style>\n",
       "<table border=\"1\" class=\"dataframe\">\n",
       "  <thead>\n",
       "    <tr style=\"text-align: right;\">\n",
       "      <th></th>\n",
       "      <th>Topic</th>\n",
       "      <th>Model1</th>\n",
       "      <th>Model2</th>\n",
       "      <th>AverageSimilarity</th>\n",
       "    </tr>\n",
       "  </thead>\n",
       "  <tbody>\n",
       "    <tr>\n",
       "      <th>0</th>\n",
       "      <td>-1</td>\n",
       "      <td>flan_lnp</td>\n",
       "      <td>flan_lnp</td>\n",
       "      <td>0.907734</td>\n",
       "    </tr>\n",
       "    <tr>\n",
       "      <th>1</th>\n",
       "      <td>-1</td>\n",
       "      <td>flan_lnp</td>\n",
       "      <td>flan_snp</td>\n",
       "      <td>0.945726</td>\n",
       "    </tr>\n",
       "    <tr>\n",
       "      <th>2</th>\n",
       "      <td>-1</td>\n",
       "      <td>flan_lnp</td>\n",
       "      <td>openai4m_lnp</td>\n",
       "      <td>0.569667</td>\n",
       "    </tr>\n",
       "    <tr>\n",
       "      <th>3</th>\n",
       "      <td>-1</td>\n",
       "      <td>flan_lnp</td>\n",
       "      <td>openai4m_snp</td>\n",
       "      <td>0.687096</td>\n",
       "    </tr>\n",
       "    <tr>\n",
       "      <th>4</th>\n",
       "      <td>-1</td>\n",
       "      <td>flan_lnp</td>\n",
       "      <td>openai4o_lnp</td>\n",
       "      <td>0.524416</td>\n",
       "    </tr>\n",
       "    <tr>\n",
       "      <th>...</th>\n",
       "      <td>...</td>\n",
       "      <td>...</td>\n",
       "      <td>...</td>\n",
       "      <td>...</td>\n",
       "    </tr>\n",
       "    <tr>\n",
       "      <th>3811</th>\n",
       "      <td>104</td>\n",
       "      <td>openai4o_snp</td>\n",
       "      <td>flan_snp</td>\n",
       "      <td>0.676948</td>\n",
       "    </tr>\n",
       "    <tr>\n",
       "      <th>3812</th>\n",
       "      <td>104</td>\n",
       "      <td>openai4o_snp</td>\n",
       "      <td>openai4m_lnp</td>\n",
       "      <td>0.737886</td>\n",
       "    </tr>\n",
       "    <tr>\n",
       "      <th>3813</th>\n",
       "      <td>104</td>\n",
       "      <td>openai4o_snp</td>\n",
       "      <td>openai4m_snp</td>\n",
       "      <td>0.699164</td>\n",
       "    </tr>\n",
       "    <tr>\n",
       "      <th>3814</th>\n",
       "      <td>104</td>\n",
       "      <td>openai4o_snp</td>\n",
       "      <td>openai4o_lnp</td>\n",
       "      <td>0.766909</td>\n",
       "    </tr>\n",
       "    <tr>\n",
       "      <th>3815</th>\n",
       "      <td>104</td>\n",
       "      <td>openai4o_snp</td>\n",
       "      <td>openai4o_snp</td>\n",
       "      <td>0.991400</td>\n",
       "    </tr>\n",
       "  </tbody>\n",
       "</table>\n",
       "<p>3816 rows × 4 columns</p>\n",
       "</div>"
      ],
      "text/plain": [
       "      Topic        Model1        Model2  AverageSimilarity\n",
       "0        -1      flan_lnp      flan_lnp           0.907734\n",
       "1        -1      flan_lnp      flan_snp           0.945726\n",
       "2        -1      flan_lnp  openai4m_lnp           0.569667\n",
       "3        -1      flan_lnp  openai4m_snp           0.687096\n",
       "4        -1      flan_lnp  openai4o_lnp           0.524416\n",
       "...     ...           ...           ...                ...\n",
       "3811    104  openai4o_snp      flan_snp           0.676948\n",
       "3812    104  openai4o_snp  openai4m_lnp           0.737886\n",
       "3813    104  openai4o_snp  openai4m_snp           0.699164\n",
       "3814    104  openai4o_snp  openai4o_lnp           0.766909\n",
       "3815    104  openai4o_snp  openai4o_snp           0.991400\n",
       "\n",
       "[3816 rows x 4 columns]"
      ]
     },
     "execution_count": 67,
     "metadata": {},
     "output_type": "execute_result"
    }
   ],
   "source": [
    "similarities_df"
   ]
  },
  {
   "cell_type": "code",
   "execution_count": 69,
   "id": "2f7740ea-ad4a-46be-ae60-3e77bbdb477f",
   "metadata": {},
   "outputs": [],
   "source": [
    "# Calculate average distance for Model1 and Model2\n",
    "average_similarity = (similarities_df\n",
    "    .groupby(['Model1', 'Model2'])\n",
    "    .agg({'AverageSimilarity': 'mean'})\n",
    "    .reset_index())"
   ]
  },
  {
   "cell_type": "code",
   "execution_count": 71,
   "id": "d8f83dd8-6a9e-4ebc-8f91-65b30aadedc2",
   "metadata": {},
   "outputs": [],
   "source": [
    "similarities_df.to_csv('../results/topic_model/iterations_topic_similarity.csv',index=False)\n",
    "average_similarity.to_csv('../results/topic_model/iterations_average_similarity.csv',index=False)"
   ]
  },
  {
   "cell_type": "code",
   "execution_count": null,
   "id": "fd233acd-7834-4899-bf4f-c8b523cf3de7",
   "metadata": {},
   "outputs": [],
   "source": []
  }
 ],
 "metadata": {
  "kernelspec": {
   "display_name": "Python 3 (ipykernel)",
   "language": "python",
   "name": "python3"
  },
  "language_info": {
   "codemirror_mode": {
    "name": "ipython",
    "version": 3
   },
   "file_extension": ".py",
   "mimetype": "text/x-python",
   "name": "python",
   "nbconvert_exporter": "python",
   "pygments_lexer": "ipython3",
   "version": "3.11.9"
  }
 },
 "nbformat": 4,
 "nbformat_minor": 5
}
