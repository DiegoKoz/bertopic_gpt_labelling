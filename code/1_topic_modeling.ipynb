{
 "cells": [
  {
   "cell_type": "code",
   "execution_count": 57,
   "id": "d94d43b5-0bb4-456a-bb5c-e8a14cc7dbab",
   "metadata": {
    "scrolled": true,
    "tags": []
   },
   "outputs": [],
   "source": [
    "from bertopic import BERTopic\n",
    "from hdbscan import HDBSCAN\n",
    "from sklearn.feature_extraction.text import CountVectorizer\n",
    "from umap import UMAP\n",
    "from sentence_transformers import SentenceTransformer\n",
    "import numpy as np\n",
    "from sklearn.decomposition import PCA\n",
    "from nltk.corpus import stopwords\n",
    "import pickle\n",
    "import pandas as pd\n",
    "from bertopic.vectorizers import ClassTfidfTransformer\n",
    "import plotly.io as pio\n",
    "\n",
    "\n",
    "import openai\n",
    "\n",
    "from bertopic.representation import KeyBERTInspired\n",
    "\n",
    "from transformers import pipeline\n",
    "from bertopic.representation import TextGeneration\n",
    "from bertopic.representation import PartOfSpeech\n",
    "from bertopic.representation import MaximalMarginalRelevance\n",
    "from bertopic.representation import OpenAI"
   ]
  },
  {
   "cell_type": "code",
   "execution_count": 2,
   "id": "b753736b-ac4d-42cd-8092-9835dc103dd2",
   "metadata": {},
   "outputs": [],
   "source": [
    "pio.renderers.default='iframe'"
   ]
  },
  {
   "cell_type": "code",
   "execution_count": 3,
   "id": "3cd0c248-c41a-4e78-9f12-923f856c9548",
   "metadata": {
    "tags": []
   },
   "outputs": [],
   "source": [
    "# this functions are only to save the embedding\n",
    "def save(x, file_name):\n",
    "    with open(file_name, 'wb') as handle:\n",
    "        pickle.dump(x, handle, protocol=pickle.HIGHEST_PROTOCOL)\n",
    "\n",
    "def restore(file_name):\n",
    "    with open(file_name, 'rb') as handle:\n",
    "        x = pickle.load(handle)\n",
    "    return x"
   ]
  },
  {
   "cell_type": "code",
   "execution_count": 4,
   "id": "08cb84f3-3531-415e-9483-c5b01ffff302",
   "metadata": {},
   "outputs": [],
   "source": [
    "df = pd.read_table('../data/biology_abstracts.csv',sep=';')"
   ]
  },
  {
   "cell_type": "markdown",
   "id": "de9c9703-00e5-4455-85d9-bb816f7a87c1",
   "metadata": {},
   "source": [
    "Prepare data"
   ]
  },
  {
   "cell_type": "code",
   "execution_count": 5,
   "id": "01d93099-b90b-4238-a1d3-81fb98fc3bf2",
   "metadata": {},
   "outputs": [],
   "source": [
    "df['text'] = df.title+ ' ' + df.abstract\n",
    "df['text'] = df.text.fillna('')"
   ]
  },
  {
   "cell_type": "code",
   "execution_count": 6,
   "id": "0ef79980-dc96-42c5-9cf0-1dea781c7c4c",
   "metadata": {},
   "outputs": [],
   "source": [
    "text_df = df[-df.OST_BK.duplicated(keep='last')].reset_index(drop=True) #drop duplicates"
   ]
  },
  {
   "cell_type": "code",
   "execution_count": 7,
   "id": "19327d8c-f4b5-4a4e-8c43-4cbc99288f6f",
   "metadata": {
    "tags": []
   },
   "outputs": [],
   "source": [
    "# umap_model = UMAP(n_neighbors=15, n_components=3, min_dist=0.0, metric='cosine', low_memory = True, n_jobs=32)\n",
    "sentence_model = SentenceTransformer(\"paraphrase-multilingual-MiniLM-L12-v2\") #\"paraphrase-MiniLM-L3-v2\"\n",
    "\n",
    "def rescale(x, inplace=False):\n",
    "    \"\"\" Rescale an embedding so optimization will not have convergence issues.\n",
    "    \"\"\"\n",
    "    if not inplace:\n",
    "        x = np.array(x, copy=True)\n",
    "\n",
    "    x /= np.std(x[:, 0]) * 10000\n",
    "\n",
    "    return x"
   ]
  },
  {
   "cell_type": "code",
   "execution_count": 8,
   "id": "edbeb1a1-4baa-4b9a-8e4e-80d6ec94c049",
   "metadata": {
    "scrolled": true,
    "tags": []
   },
   "outputs": [],
   "source": [
    "# %%time\n",
    "# embeddings = sentence_model.encode(text_df.text.values, show_progress_bar=False)\n",
    "# save(embeddings, '../results/embeddings_1.p')"
   ]
  },
  {
   "cell_type": "code",
   "execution_count": 9,
   "id": "d77a8acb",
   "metadata": {
    "tags": []
   },
   "outputs": [],
   "source": [
    "embeddings = restore('../results/embeddings_1.p')"
   ]
  },
  {
   "cell_type": "code",
   "execution_count": 10,
   "id": "e6ad97bf-5803-4b8c-ac56-031378fa8e70",
   "metadata": {
    "tags": []
   },
   "outputs": [
    {
     "data": {
      "text/plain": [
       "(34797, 384)"
      ]
     },
     "execution_count": 10,
     "metadata": {},
     "output_type": "execute_result"
    }
   ],
   "source": [
    "embeddings.shape"
   ]
  },
  {
   "cell_type": "code",
   "execution_count": 11,
   "id": "9ad847f3-05aa-43e3-9eb5-53b6e7bde112",
   "metadata": {
    "tags": []
   },
   "outputs": [],
   "source": [
    "pca_embeddings = rescale(PCA(n_components=5).fit_transform(embeddings))"
   ]
  },
  {
   "cell_type": "code",
   "execution_count": 12,
   "id": "1cb2fd23-4d5c-477b-9f41-f3405e1da4d4",
   "metadata": {
    "tags": []
   },
   "outputs": [
    {
     "data": {
      "text/plain": [
       "(34797, 5)"
      ]
     },
     "execution_count": 12,
     "metadata": {},
     "output_type": "execute_result"
    }
   ],
   "source": [
    "pca_embeddings.shape"
   ]
  },
  {
   "cell_type": "markdown",
   "id": "a1160437-5903-4a47-ba4d-fc9c37e951c9",
   "metadata": {},
   "source": [
    "## basic elements"
   ]
  },
  {
   "cell_type": "code",
   "execution_count": 13,
   "id": "3a562266-6175-4d05-ab39-872bc8b4c9b7",
   "metadata": {},
   "outputs": [],
   "source": [
    "umap_model = UMAP(\n",
    "    n_neighbors=15,\n",
    "    n_components=5,\n",
    "    min_dist=0.0,\n",
    "    metric=\"cosine\",\n",
    "    init=pca_embeddings,\n",
    "    random_state=1234, n_jobs=4, low_memory=False)    \n",
    "sw=stopwords.words(['english','spanish','french']) + ['elsevier']\n",
    "vectorizer_model = CountVectorizer(ngram_range=(1,1), stop_words=sw,max_df=1.0, min_df=0.001)\n",
    "# Setting HDBSCAN model\n",
    "hdbscan_model = HDBSCAN(min_cluster_size=100,min_samples=1, metric='euclidean',cluster_selection_epsilon=0.05, \n",
    "                        cluster_selection_method='leaf', prediction_data=True,core_dist_n_jobs=4,memory='tmp/') #, min_samples=1\n",
    "ctfidf_model  = ClassTfidfTransformer()"
   ]
  },
  {
   "cell_type": "markdown",
   "id": "14442078-c979-4106-99c6-8f7aa5bc1d8c",
   "metadata": {},
   "source": [
    "## Representation models"
   ]
  },
  {
   "cell_type": "code",
   "execution_count": 14,
   "id": "221c068a-d48c-49cd-b853-9cd6dad437f8",
   "metadata": {},
   "outputs": [],
   "source": [
    "# The main representation of a topic\n",
    "main_representation = KeyBERTInspired()"
   ]
  },
  {
   "cell_type": "code",
   "execution_count": 17,
   "id": "ff850c75-1a3c-4c61-b2e8-451293c6f512",
   "metadata": {
    "scrolled": true
   },
   "outputs": [],
   "source": [
    "# Additional ways of representing a topic\n",
    "aspect_model1 = [KeyBERTInspired(top_n_words=30), MaximalMarginalRelevance(diversity=.5)]"
   ]
  },
  {
   "cell_type": "markdown",
   "id": "678f8a66-391a-4eb2-a0e6-b2c79f066347",
   "metadata": {},
   "source": [
    "### LLM\n"
   ]
  },
  {
   "cell_type": "code",
   "execution_count": 19,
   "id": "e0182081-5440-436c-beff-215b4c5e6319",
   "metadata": {},
   "outputs": [],
   "source": [
    "# Create your representation model\n",
    "prompt = \"I have a topic described by the following keywords: [KEYWORDS]. Based on the previous keywords, what is this topic about?\"\n",
    "generator = pipeline('text2text-generation', model='google/flan-t5-base')\n",
    "flan_model = TextGeneration(generator,prompt=prompt)"
   ]
  },
  {
   "cell_type": "code",
   "execution_count": 58,
   "id": "8e13f907-83c9-4cab-b638-7644238f6b16",
   "metadata": {},
   "outputs": [],
   "source": [
    "client = openai.OpenAI(api_key=\"\")\n"
   ]
  },
  {
   "cell_type": "code",
   "execution_count": 69,
   "id": "269a9f00-6c26-400b-a7ae-8a08b3b2a7e6",
   "metadata": {},
   "outputs": [],
   "source": [
    "# Create your representation model\n",
    "short_name_prompt = \"\"\"\n",
    "I have a topic that is described by the following keywords: [KEYWORDS]\n",
    "Based on the previous keywords, please give me a single word that can accurately represent the topic\n",
    "\"\"\"\n",
    "long_name_prompt = \"\"\"\n",
    "I have a topic that is described by the following keywords: [KEYWORDS]\n",
    "Based on the previous keywords, please give me a short name of no more than 3 words that can accurately represent the topic\n",
    "\"\"\"\n",
    "title_prompt = \"\"\"\n",
    "I have a topic that is described by the following keywords: [KEYWORDS]\n",
    "Based on the previous keywords, please give me a title that can describe the topic\n",
    "\"\"\"\n",
    "\n",
    "openai4m_snp = OpenAI(client, model=\"gpt-4o-mini\", chat=True, prompt=short_name_prompt, nr_docs=50, delay_in_seconds=1)\n",
    "openai4m_lnp = OpenAI(client, model=\"gpt-4o-mini\", chat=True, prompt=long_name_prompt, nr_docs=50, delay_in_seconds=1)\n",
    "openai4m_tp = OpenAI(client, model=\"gpt-4o-mini\", chat=True, prompt=title_prompt, nr_docs=50, delay_in_seconds=1)\n",
    "\n",
    "openai4o_snp = OpenAI(client, model=\"gpt-4o\", chat=True, prompt=short_name_prompt, nr_docs=50, delay_in_seconds=1)\n",
    "openai4o_lnp = OpenAI(client, model=\"gpt-4o\", chat=True, prompt=long_name_prompt, nr_docs=50, delay_in_seconds=1)\n",
    "openai4o_tp = OpenAI(client, model=\"gpt-4o\", chat=True, prompt=title_prompt, nr_docs=50, delay_in_seconds=1)\n",
    "\n"
   ]
  },
  {
   "cell_type": "code",
   "execution_count": 74,
   "id": "eef32d98-f098-4a8b-a56f-c5b7292272b2",
   "metadata": {},
   "outputs": [],
   "source": [
    "# Add all models together to be run in a single `fit`\n",
    "representation_models = {\n",
    "   \"Main\": main_representation,\n",
    "    \"Aspect1\": flan_model,\n",
    "    \"Aspect2\": openai4m_snp,\n",
    "    \"Aspect3\": openai4m_lnp,\n",
    "    \"Aspect4\": openai4m_tp,\n",
    "    \"Aspect5\": openai4o_snp,\n",
    "    \"Aspect6\": openai4o_lnp,\n",
    "    \"Aspect7\": openai4o_tp,\n",
    "}\n"
   ]
  },
  {
   "cell_type": "markdown",
   "id": "1fea913c-d939-4a03-b3fd-8e8afaae0bfd",
   "metadata": {},
   "source": [
    "#  Model FIT"
   ]
  },
  {
   "cell_type": "code",
   "execution_count": 76,
   "id": "4f87b0e1-a36b-45b5-ba48-5d92fceb2f6d",
   "metadata": {},
   "outputs": [],
   "source": [
    "representation_model = KeyBERTInspired()\n",
    "\n",
    "topic_model = BERTopic(verbose=True,embedding_model=sentence_model, low_memory=True, calculate_probabilities=False, \n",
    "                       vectorizer_model=vectorizer_model, \n",
    "                       hdbscan_model=hdbscan_model,\n",
    "                       umap_model=umap_model,\n",
    "                       ctfidf_model=ctfidf_model,\n",
    "                       representation_model=representation_models)\n"
   ]
  },
  {
   "cell_type": "code",
   "execution_count": 77,
   "id": "cfb8b4d7-7564-48c3-9853-4200a86c0c5d",
   "metadata": {
    "scrolled": true,
    "tags": []
   },
   "outputs": [
    {
     "name": "stderr",
     "output_type": "stream",
     "text": [
      "2024-08-01 14:40:41,408 - BERTopic - Dimensionality - Fitting the dimensionality reduction algorithm\n",
      "2024-08-01 14:40:56,226 - BERTopic - Dimensionality - Completed ✓\n",
      "2024-08-01 14:40:56,227 - BERTopic - Cluster - Start clustering the reduced embeddings\n",
      "2024-08-01 14:40:56,365 - BERTopic - Cluster - Completed ✓\n",
      "2024-08-01 14:40:56,369 - BERTopic - Representation - Extracting topics from clusters using representation models.\n",
      "100%|████████████████████████████████████████████████████████████████████████████████████████████████████████████████████████████████████████████████| 105/105 [00:09<00:00, 10.89it/s]\n",
      "100%|████████████████████████████████████████████████████████████████████████████████████████████████████████████████████████████████████████████████| 105/105 [02:57<00:00,  1.69s/it]\n",
      "100%|████████████████████████████████████████████████████████████████████████████████████████████████████████████████████████████████████████████████| 105/105 [02:58<00:00,  1.70s/it]\n",
      "100%|████████████████████████████████████████████████████████████████████████████████████████████████████████████████████████████████████████████████| 105/105 [03:29<00:00,  1.99s/it]\n",
      "100%|████████████████████████████████████████████████████████████████████████████████████████████████████████████████████████████████████████████████| 105/105 [02:57<00:00,  1.69s/it]\n",
      "100%|████████████████████████████████████████████████████████████████████████████████████████████████████████████████████████████████████████████████| 105/105 [03:02<00:00,  1.73s/it]\n",
      "100%|████████████████████████████████████████████████████████████████████████████████████████████████████████████████████████████████████████████████| 105/105 [03:23<00:00,  1.94s/it]\n",
      "2024-08-01 15:00:20,009 - BERTopic - Representation - Completed ✓\n"
     ]
    },
    {
     "name": "stdout",
     "output_type": "stream",
     "text": [
      "CPU times: user 1min 26s, sys: 12.8 s, total: 1min 38s\n",
      "Wall time: 19min 40s\n"
     ]
    }
   ],
   "source": [
    "%%time\n",
    "topics, probabilities  = topic_model.fit_transform(text_df.text.values, embeddings)"
   ]
  },
  {
   "cell_type": "code",
   "execution_count": 87,
   "id": "16b5ff0b-1784-4ed1-9a7d-3f73db2d6383",
   "metadata": {},
   "outputs": [],
   "source": [
    "topic_info= topic_model.get_topic_info()\n",
    "\n",
    "topic_info['Aspect1'] = topic_info['Aspect1'].apply(lambda x: x[0] if x else '').str.replace(\"'\", \"\").str.replace('\"', '')\n",
    "topic_info['Aspect2'] = topic_info['Aspect2'].apply(lambda x: x[0] if x else '').str.replace(\"'\", \"\").str.replace('\"', '')\n",
    "topic_info['Aspect3'] = topic_info['Aspect3'].apply(lambda x: x[0] if x else '').str.replace(\"'\", \"\").str.replace('\"', '')\n",
    "topic_info['Aspect4'] = topic_info['Aspect4'].apply(lambda x: x[0] if x else '').str.replace(\"'\", \"\").str.replace('\"', '')\n",
    "topic_info['Aspect5'] = topic_info['Aspect5'].apply(lambda x: x[0] if x else '').str.replace(\"'\", \"\").str.replace('\"', '')\n",
    "topic_info['Aspect6'] = topic_info['Aspect6'].apply(lambda x: x[0] if x else '').str.replace(\"'\", \"\").str.replace('\"', '')\n",
    "topic_info['Aspect7'] = topic_info['Aspect7'].apply(lambda x: x[0] if x else '').str.replace(\"'\", \"\").str.replace('\"', '')\n"
   ]
  },
  {
   "cell_type": "code",
   "execution_count": 88,
   "id": "b81bde87-f8d4-4b5b-8b0c-f9df8f72d82a",
   "metadata": {},
   "outputs": [],
   "source": [
    "topic_info= topic_info.rename(columns={\n",
    "    \"Aspect1\": \"flan_model\",\n",
    "    \"Aspect2\": \"openai4m_snp\",\n",
    "    \"Aspect3\": \"openai4m_lnp\",\n",
    "    \"Aspect4\": \"openai4m_tp\",\n",
    "    \"Aspect5\": \"openai4o_snp\",\n",
    "    \"Aspect6\": \"openai4o_lnp\",\n",
    "    \"Aspect7\": \"openai4o_tp\"})"
   ]
  },
  {
   "cell_type": "code",
   "execution_count": 93,
   "id": "61b739db-186e-4df3-8c93-489b0f586f40",
   "metadata": {},
   "outputs": [],
   "source": [
    "topic_info=topic_info[['Topic', 'Count', 'Name','Representative_Docs', 'Representation', 'flan_model',\n",
    "       'openai4m_snp', 'openai4m_lnp', 'openai4m_tp', 'openai4o_snp',\n",
    "       'openai4o_lnp', 'openai4o_tp', ]]"
   ]
  },
  {
   "cell_type": "code",
   "execution_count": 95,
   "id": "8f8768f1-f886-454c-9d83-3ee363314d91",
   "metadata": {
    "scrolled": true
   },
   "outputs": [],
   "source": [
    "#$topic_model.save('../results/topic_model/basic_model')\n",
    "topic_info.to_excel('../results/topic_model/topic_info.xlsx',index=False)"
   ]
  },
  {
   "cell_type": "code",
   "execution_count": null,
   "id": "efe99207-dbbc-4a03-ad4c-dcfa476a092b",
   "metadata": {},
   "outputs": [],
   "source": []
  }
 ],
 "metadata": {
  "kernelspec": {
   "display_name": "Python 3 (ipykernel)",
   "language": "python",
   "name": "python3"
  },
  "language_info": {
   "codemirror_mode": {
    "name": "ipython",
    "version": 3
   },
   "file_extension": ".py",
   "mimetype": "text/x-python",
   "name": "python",
   "nbconvert_exporter": "python",
   "pygments_lexer": "ipython3",
   "version": "3.11.9"
  }
 },
 "nbformat": 4,
 "nbformat_minor": 5
}
